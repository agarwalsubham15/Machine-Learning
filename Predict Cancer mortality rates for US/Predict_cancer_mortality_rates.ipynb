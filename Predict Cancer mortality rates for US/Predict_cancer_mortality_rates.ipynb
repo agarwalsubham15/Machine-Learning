{
  "nbformat": 4,
  "nbformat_minor": 0,
  "metadata": {
    "colab": {
      "name": "Predict cancer mortality rates.ipynb",
      "provenance": []
    },
    "kernelspec": {
      "name": "python3",
      "display_name": "Python 3"
    }
  },
  "cells": [
    {
      "cell_type": "code",
      "metadata": {
        "id": "z8Uunw8F9apC"
      },
      "source": [
        "#Supress Warnings\n",
        "import warnings\n",
        "warnings.filterwarnings('ignore')\n"
      ],
      "execution_count": null,
      "outputs": []
    },
    {
      "cell_type": "code",
      "metadata": {
        "id": "8a57QGqtbLza"
      },
      "source": [
        "#Importing all neccessary libraries\n",
        "\n",
        "import numpy as np\n",
        "import seaborn as sns\n",
        "import pandas as pd\n",
        "import matplotlib.pyplot as plt\n",
        "from sklearn.feature_selection import RFE\n",
        "from sklearn.feature_selection import RFECV\n",
        "from sklearn.linear_model import LogisticRegression\n",
        "from sklearn.model_selection import train_test_split\n",
        "from sklearn.metrics import f1_score,confusion_matrix\n",
        "from sklearn.metrics import accuracy_score, f1_score\n",
        "from sklearn import preprocessing\n",
        "%matplotlib inline"
      ],
      "execution_count": null,
      "outputs": []
    },
    {
      "cell_type": "code",
      "metadata": {
        "id": "E2IShYpj-ZvF"
      },
      "source": [
        "#importing the csv fil in dataframe named 'cancer'\n",
        "\n",
        "cancer=pd.read_csv(\"/content/cancer_reg spreadsheet - Sheet1.csv\")"
      ],
      "execution_count": null,
      "outputs": []
    },
    {
      "cell_type": "code",
      "metadata": {
        "id": "el8Np8P4-vPT",
        "colab": {
          "base_uri": "https://localhost:8080/",
          "height": 34
        },
        "outputId": "6a3c98e9-c633-463a-d82f-efe2b0cebb73"
      },
      "source": [
        "#using shape to know the row and columns of the dataframe\n",
        "cancer.shape"
      ],
      "execution_count": null,
      "outputs": [
        {
          "output_type": "execute_result",
          "data": {
            "text/plain": [
              "(3047, 34)"
            ]
          },
          "metadata": {
            "tags": []
          },
          "execution_count": 8
        }
      ]
    },
    {
      "cell_type": "code",
      "metadata": {
        "id": "We86RH8ZAuSy",
        "colab": {
          "base_uri": "https://localhost:8080/",
          "height": 706
        },
        "outputId": "609c8a91-62e1-4681-a470-5061f580723f"
      },
      "source": [
        "#using info to get all the info about dataframe row and columns\n",
        "cancer.info()"
      ],
      "execution_count": null,
      "outputs": [
        {
          "output_type": "stream",
          "text": [
            "<class 'pandas.core.frame.DataFrame'>\n",
            "RangeIndex: 3047 entries, 0 to 3046\n",
            "Data columns (total 34 columns):\n",
            " #   Column                   Non-Null Count  Dtype  \n",
            "---  ------                   --------------  -----  \n",
            " 0   avgAnnCount              3047 non-null   float64\n",
            " 1   avgDeathsPerYear         3047 non-null   int64  \n",
            " 2   TARGET_deathRate         3047 non-null   float64\n",
            " 3   incidenceRate            3047 non-null   float64\n",
            " 4   medIncome                3047 non-null   int64  \n",
            " 5   popEst2015               3047 non-null   int64  \n",
            " 6   povertyPercent           3047 non-null   float64\n",
            " 7   studyPerCap              3047 non-null   float64\n",
            " 8   binnedInc                3047 non-null   object \n",
            " 9   MedianAge                3047 non-null   float64\n",
            " 10  MedianAgeMale            3047 non-null   float64\n",
            " 11  MedianAgeFemale          3047 non-null   float64\n",
            " 12  Geography                3047 non-null   object \n",
            " 13  AvgHouseholdSize         3047 non-null   float64\n",
            " 14  PercentMarried           3047 non-null   float64\n",
            " 15  PctNoHS18_24             3047 non-null   float64\n",
            " 16  PctHS18_24               3047 non-null   float64\n",
            " 17  PctSomeCol18_24          762 non-null    float64\n",
            " 18  PctBachDeg18_24          3047 non-null   float64\n",
            " 19  PctHS25_Over             3047 non-null   float64\n",
            " 20  PctBachDeg25_Over        3047 non-null   float64\n",
            " 21  PctEmployed16_Over       2895 non-null   float64\n",
            " 22  PctUnemployed16_Over     3047 non-null   float64\n",
            " 23  PctPrivateCoverage       3047 non-null   float64\n",
            " 24  PctPrivateCoverageAlone  2438 non-null   float64\n",
            " 25  PctEmpPrivCoverage       3047 non-null   float64\n",
            " 26  PctPublicCoverage        3047 non-null   float64\n",
            " 27  PctPublicCoverageAlone   3047 non-null   float64\n",
            " 28  PctWhite                 3047 non-null   float64\n",
            " 29  PctBlack                 3047 non-null   float64\n",
            " 30  PctAsian                 3047 non-null   float64\n",
            " 31  PctOtherRace             3047 non-null   float64\n",
            " 32  PctMarriedHouseholds     3047 non-null   float64\n",
            " 33  BirthRate                3047 non-null   float64\n",
            "dtypes: float64(29), int64(3), object(2)\n",
            "memory usage: 809.5+ KB\n"
          ],
          "name": "stdout"
        }
      ]
    },
    {
      "cell_type": "code",
      "metadata": {
        "id": "aKqnF7krdaEf",
        "colab": {
          "base_uri": "https://localhost:8080/",
          "height": 218
        },
        "outputId": "e37ffe38-e82e-4d40-f77f-7a5e3ef15448"
      },
      "source": [
        "#knowing the ocunts of Target_deathRate Variable of each value\n",
        "cancer.TARGET_deathRate.value_counts()"
      ],
      "execution_count": null,
      "outputs": [
        {
          "output_type": "execute_result",
          "data": {
            "text/plain": [
              "184.3    11\n",
              "182.8    10\n",
              "176.4    10\n",
              "179.9    10\n",
              "173.6    10\n",
              "         ..\n",
              "229.5     1\n",
              "121.0     1\n",
              "147.0     1\n",
              "236.4     1\n",
              "126.7     1\n",
              "Name: TARGET_deathRate, Length: 1053, dtype: int64"
            ]
          },
          "metadata": {
            "tags": []
          },
          "execution_count": 10
        }
      ]
    },
    {
      "cell_type": "code",
      "metadata": {
        "id": "tZrtp_gMdnJz",
        "colab": {
          "base_uri": "https://localhost:8080/",
          "height": 383
        },
        "outputId": "ec353c71-3d3e-4e13-a212-4537ea6fd1ea"
      },
      "source": [
        "#to display first 5 columns of the dataframe\n",
        "cancer.head()"
      ],
      "execution_count": null,
      "outputs": [
        {
          "output_type": "execute_result",
          "data": {
            "text/html": [
              "<div>\n",
              "<style scoped>\n",
              "    .dataframe tbody tr th:only-of-type {\n",
              "        vertical-align: middle;\n",
              "    }\n",
              "\n",
              "    .dataframe tbody tr th {\n",
              "        vertical-align: top;\n",
              "    }\n",
              "\n",
              "    .dataframe thead th {\n",
              "        text-align: right;\n",
              "    }\n",
              "</style>\n",
              "<table border=\"1\" class=\"dataframe\">\n",
              "  <thead>\n",
              "    <tr style=\"text-align: right;\">\n",
              "      <th></th>\n",
              "      <th>avgAnnCount</th>\n",
              "      <th>avgDeathsPerYear</th>\n",
              "      <th>TARGET_deathRate</th>\n",
              "      <th>incidenceRate</th>\n",
              "      <th>medIncome</th>\n",
              "      <th>popEst2015</th>\n",
              "      <th>povertyPercent</th>\n",
              "      <th>studyPerCap</th>\n",
              "      <th>binnedInc</th>\n",
              "      <th>MedianAge</th>\n",
              "      <th>MedianAgeMale</th>\n",
              "      <th>MedianAgeFemale</th>\n",
              "      <th>Geography</th>\n",
              "      <th>AvgHouseholdSize</th>\n",
              "      <th>PercentMarried</th>\n",
              "      <th>PctNoHS18_24</th>\n",
              "      <th>PctHS18_24</th>\n",
              "      <th>PctSomeCol18_24</th>\n",
              "      <th>PctBachDeg18_24</th>\n",
              "      <th>PctHS25_Over</th>\n",
              "      <th>PctBachDeg25_Over</th>\n",
              "      <th>PctEmployed16_Over</th>\n",
              "      <th>PctUnemployed16_Over</th>\n",
              "      <th>PctPrivateCoverage</th>\n",
              "      <th>PctPrivateCoverageAlone</th>\n",
              "      <th>PctEmpPrivCoverage</th>\n",
              "      <th>PctPublicCoverage</th>\n",
              "      <th>PctPublicCoverageAlone</th>\n",
              "      <th>PctWhite</th>\n",
              "      <th>PctBlack</th>\n",
              "      <th>PctAsian</th>\n",
              "      <th>PctOtherRace</th>\n",
              "      <th>PctMarriedHouseholds</th>\n",
              "      <th>BirthRate</th>\n",
              "    </tr>\n",
              "  </thead>\n",
              "  <tbody>\n",
              "    <tr>\n",
              "      <th>0</th>\n",
              "      <td>1397.0</td>\n",
              "      <td>469</td>\n",
              "      <td>164.9</td>\n",
              "      <td>489.8</td>\n",
              "      <td>61898</td>\n",
              "      <td>260131</td>\n",
              "      <td>11.2</td>\n",
              "      <td>499.74820</td>\n",
              "      <td>(61494.5, 125635]</td>\n",
              "      <td>39.3</td>\n",
              "      <td>36.9</td>\n",
              "      <td>41.7</td>\n",
              "      <td>Kitsap County, Washington</td>\n",
              "      <td>2.54</td>\n",
              "      <td>52.5</td>\n",
              "      <td>11.5</td>\n",
              "      <td>39.5</td>\n",
              "      <td>42.1</td>\n",
              "      <td>6.9</td>\n",
              "      <td>23.2</td>\n",
              "      <td>19.6</td>\n",
              "      <td>51.9</td>\n",
              "      <td>8.0</td>\n",
              "      <td>75.1</td>\n",
              "      <td>NaN</td>\n",
              "      <td>41.6</td>\n",
              "      <td>32.9</td>\n",
              "      <td>14.0</td>\n",
              "      <td>81.78053</td>\n",
              "      <td>2.594728</td>\n",
              "      <td>4.821857</td>\n",
              "      <td>1.843479</td>\n",
              "      <td>52.85608</td>\n",
              "      <td>6.118831</td>\n",
              "    </tr>\n",
              "    <tr>\n",
              "      <th>1</th>\n",
              "      <td>173.0</td>\n",
              "      <td>70</td>\n",
              "      <td>161.3</td>\n",
              "      <td>411.6</td>\n",
              "      <td>48127</td>\n",
              "      <td>43269</td>\n",
              "      <td>18.6</td>\n",
              "      <td>23.11123</td>\n",
              "      <td>(48021.6, 51046.4]</td>\n",
              "      <td>33.0</td>\n",
              "      <td>32.2</td>\n",
              "      <td>33.7</td>\n",
              "      <td>Kittitas County, Washington</td>\n",
              "      <td>2.34</td>\n",
              "      <td>44.5</td>\n",
              "      <td>6.1</td>\n",
              "      <td>22.4</td>\n",
              "      <td>64.0</td>\n",
              "      <td>7.5</td>\n",
              "      <td>26.0</td>\n",
              "      <td>22.7</td>\n",
              "      <td>55.9</td>\n",
              "      <td>7.8</td>\n",
              "      <td>70.2</td>\n",
              "      <td>53.8</td>\n",
              "      <td>43.6</td>\n",
              "      <td>31.1</td>\n",
              "      <td>15.3</td>\n",
              "      <td>89.22851</td>\n",
              "      <td>0.969102</td>\n",
              "      <td>2.246233</td>\n",
              "      <td>3.741352</td>\n",
              "      <td>45.37250</td>\n",
              "      <td>4.333096</td>\n",
              "    </tr>\n",
              "    <tr>\n",
              "      <th>2</th>\n",
              "      <td>102.0</td>\n",
              "      <td>50</td>\n",
              "      <td>174.7</td>\n",
              "      <td>349.7</td>\n",
              "      <td>49348</td>\n",
              "      <td>21026</td>\n",
              "      <td>14.6</td>\n",
              "      <td>47.56016</td>\n",
              "      <td>(48021.6, 51046.4]</td>\n",
              "      <td>45.0</td>\n",
              "      <td>44.0</td>\n",
              "      <td>45.8</td>\n",
              "      <td>Klickitat County, Washington</td>\n",
              "      <td>2.62</td>\n",
              "      <td>54.2</td>\n",
              "      <td>24.0</td>\n",
              "      <td>36.6</td>\n",
              "      <td>NaN</td>\n",
              "      <td>9.5</td>\n",
              "      <td>29.0</td>\n",
              "      <td>16.0</td>\n",
              "      <td>45.9</td>\n",
              "      <td>7.0</td>\n",
              "      <td>63.7</td>\n",
              "      <td>43.5</td>\n",
              "      <td>34.9</td>\n",
              "      <td>42.1</td>\n",
              "      <td>21.1</td>\n",
              "      <td>90.92219</td>\n",
              "      <td>0.739673</td>\n",
              "      <td>0.465898</td>\n",
              "      <td>2.747358</td>\n",
              "      <td>54.44487</td>\n",
              "      <td>3.729488</td>\n",
              "    </tr>\n",
              "    <tr>\n",
              "      <th>3</th>\n",
              "      <td>427.0</td>\n",
              "      <td>202</td>\n",
              "      <td>194.8</td>\n",
              "      <td>430.4</td>\n",
              "      <td>44243</td>\n",
              "      <td>75882</td>\n",
              "      <td>17.1</td>\n",
              "      <td>342.63730</td>\n",
              "      <td>(42724.4, 45201]</td>\n",
              "      <td>42.8</td>\n",
              "      <td>42.2</td>\n",
              "      <td>43.4</td>\n",
              "      <td>Lewis County, Washington</td>\n",
              "      <td>2.52</td>\n",
              "      <td>52.7</td>\n",
              "      <td>20.2</td>\n",
              "      <td>41.2</td>\n",
              "      <td>36.1</td>\n",
              "      <td>2.5</td>\n",
              "      <td>31.6</td>\n",
              "      <td>9.3</td>\n",
              "      <td>48.3</td>\n",
              "      <td>12.1</td>\n",
              "      <td>58.4</td>\n",
              "      <td>40.3</td>\n",
              "      <td>35.0</td>\n",
              "      <td>45.3</td>\n",
              "      <td>25.0</td>\n",
              "      <td>91.74469</td>\n",
              "      <td>0.782626</td>\n",
              "      <td>1.161359</td>\n",
              "      <td>1.362643</td>\n",
              "      <td>51.02151</td>\n",
              "      <td>4.603841</td>\n",
              "    </tr>\n",
              "    <tr>\n",
              "      <th>4</th>\n",
              "      <td>57.0</td>\n",
              "      <td>26</td>\n",
              "      <td>144.4</td>\n",
              "      <td>350.1</td>\n",
              "      <td>49955</td>\n",
              "      <td>10321</td>\n",
              "      <td>12.5</td>\n",
              "      <td>0.00000</td>\n",
              "      <td>(48021.6, 51046.4]</td>\n",
              "      <td>48.3</td>\n",
              "      <td>47.8</td>\n",
              "      <td>48.9</td>\n",
              "      <td>Lincoln County, Washington</td>\n",
              "      <td>2.34</td>\n",
              "      <td>57.8</td>\n",
              "      <td>14.9</td>\n",
              "      <td>43.0</td>\n",
              "      <td>40.0</td>\n",
              "      <td>2.0</td>\n",
              "      <td>33.4</td>\n",
              "      <td>15.0</td>\n",
              "      <td>48.2</td>\n",
              "      <td>4.8</td>\n",
              "      <td>61.6</td>\n",
              "      <td>43.9</td>\n",
              "      <td>35.1</td>\n",
              "      <td>44.0</td>\n",
              "      <td>22.7</td>\n",
              "      <td>94.10402</td>\n",
              "      <td>0.270192</td>\n",
              "      <td>0.665830</td>\n",
              "      <td>0.492135</td>\n",
              "      <td>54.02746</td>\n",
              "      <td>6.796657</td>\n",
              "    </tr>\n",
              "  </tbody>\n",
              "</table>\n",
              "</div>"
            ],
            "text/plain": [
              "   avgAnnCount  avgDeathsPerYear  ...  PctMarriedHouseholds  BirthRate\n",
              "0       1397.0               469  ...              52.85608   6.118831\n",
              "1        173.0                70  ...              45.37250   4.333096\n",
              "2        102.0                50  ...              54.44487   3.729488\n",
              "3        427.0               202  ...              51.02151   4.603841\n",
              "4         57.0                26  ...              54.02746   6.796657\n",
              "\n",
              "[5 rows x 34 columns]"
            ]
          },
          "metadata": {
            "tags": []
          },
          "execution_count": 11
        }
      ]
    },
    {
      "cell_type": "code",
      "metadata": {
        "id": "h_8RTYkreH1-",
        "colab": {
          "base_uri": "https://localhost:8080/",
          "height": 34
        },
        "outputId": "10abfe9b-6892-4f13-9169-047f3bda3d3b"
      },
      "source": [
        "#to check whether there is any categorical values or not\n",
        "\n",
        "categorical_feature_columns = list(set(cancer.columns) - set(cancer._get_numeric_data().columns))\n",
        "categorical_feature_columns"
      ],
      "execution_count": null,
      "outputs": [
        {
          "output_type": "execute_result",
          "data": {
            "text/plain": [
              "['binnedInc', 'Geography']"
            ]
          },
          "metadata": {
            "tags": []
          },
          "execution_count": 12
        }
      ]
    },
    {
      "cell_type": "code",
      "metadata": {
        "id": "x05BgUUwfBYI"
      },
      "source": [
        "#removing categorical vlaue column\n",
        "\n",
        "cancer.drop([\"Geography\"],axis=1,inplace=True)"
      ],
      "execution_count": null,
      "outputs": []
    },
    {
      "cell_type": "code",
      "metadata": {
        "id": "2mwRbelNk4Ux"
      },
      "source": [
        "#removing categorical value column\n",
        "\n",
        "cancer.drop([\"binnedInc\"],axis=1,inplace=True)"
      ],
      "execution_count": null,
      "outputs": []
    },
    {
      "cell_type": "code",
      "metadata": {
        "id": "rgFXjIqH5Z7n",
        "colab": {
          "base_uri": "https://localhost:8080/",
          "height": 571
        },
        "outputId": "e2a61bd1-fc24-4614-deb1-5078f27b02d7"
      },
      "source": [
        "#checking missing values sum of each column\n",
        "\n",
        "cancer.isnull().sum()"
      ],
      "execution_count": null,
      "outputs": [
        {
          "output_type": "execute_result",
          "data": {
            "text/plain": [
              "avgAnnCount                   0\n",
              "avgDeathsPerYear              0\n",
              "TARGET_deathRate              0\n",
              "incidenceRate                 0\n",
              "medIncome                     0\n",
              "popEst2015                    0\n",
              "povertyPercent                0\n",
              "studyPerCap                   0\n",
              "MedianAge                     0\n",
              "MedianAgeMale                 0\n",
              "MedianAgeFemale               0\n",
              "AvgHouseholdSize              0\n",
              "PercentMarried                0\n",
              "PctNoHS18_24                  0\n",
              "PctHS18_24                    0\n",
              "PctSomeCol18_24            2285\n",
              "PctBachDeg18_24               0\n",
              "PctHS25_Over                  0\n",
              "PctBachDeg25_Over             0\n",
              "PctEmployed16_Over          152\n",
              "PctUnemployed16_Over          0\n",
              "PctPrivateCoverage            0\n",
              "PctPrivateCoverageAlone     609\n",
              "PctEmpPrivCoverage            0\n",
              "PctPublicCoverage             0\n",
              "PctPublicCoverageAlone        0\n",
              "PctWhite                      0\n",
              "PctBlack                      0\n",
              "PctAsian                      0\n",
              "PctOtherRace                  0\n",
              "PctMarriedHouseholds          0\n",
              "BirthRate                     0\n",
              "dtype: int64"
            ]
          },
          "metadata": {
            "tags": []
          },
          "execution_count": 15
        }
      ]
    },
    {
      "cell_type": "code",
      "metadata": {
        "id": "h4PLtTeO5fsy"
      },
      "source": [
        "#removing the column with missing values\n",
        "\n",
        "cancer.drop([\"PctSomeCol18_24\"],axis=1,inplace=True)\n",
        "cancer.drop([\"PctEmployed16_Over\"],axis=1,inplace=True)\n",
        "cancer.drop([\"PctPrivateCoverageAlone\"],axis=1,inplace=True)"
      ],
      "execution_count": null,
      "outputs": []
    },
    {
      "cell_type": "code",
      "metadata": {
        "id": "9YSchial51Cy",
        "colab": {
          "base_uri": "https://localhost:8080/",
          "height": 422
        },
        "outputId": "b2c9cd9c-e296-44d5-ad3c-95ea9a6159b7"
      },
      "source": [
        "#removing the rows with all missing values\n",
        "\n",
        "cancer.dropna(how='all')"
      ],
      "execution_count": null,
      "outputs": [
        {
          "output_type": "execute_result",
          "data": {
            "text/html": [
              "<div>\n",
              "<style scoped>\n",
              "    .dataframe tbody tr th:only-of-type {\n",
              "        vertical-align: middle;\n",
              "    }\n",
              "\n",
              "    .dataframe tbody tr th {\n",
              "        vertical-align: top;\n",
              "    }\n",
              "\n",
              "    .dataframe thead th {\n",
              "        text-align: right;\n",
              "    }\n",
              "</style>\n",
              "<table border=\"1\" class=\"dataframe\">\n",
              "  <thead>\n",
              "    <tr style=\"text-align: right;\">\n",
              "      <th></th>\n",
              "      <th>avgAnnCount</th>\n",
              "      <th>avgDeathsPerYear</th>\n",
              "      <th>TARGET_deathRate</th>\n",
              "      <th>incidenceRate</th>\n",
              "      <th>medIncome</th>\n",
              "      <th>popEst2015</th>\n",
              "      <th>povertyPercent</th>\n",
              "      <th>studyPerCap</th>\n",
              "      <th>MedianAge</th>\n",
              "      <th>MedianAgeMale</th>\n",
              "      <th>MedianAgeFemale</th>\n",
              "      <th>AvgHouseholdSize</th>\n",
              "      <th>PercentMarried</th>\n",
              "      <th>PctNoHS18_24</th>\n",
              "      <th>PctHS18_24</th>\n",
              "      <th>PctBachDeg18_24</th>\n",
              "      <th>PctHS25_Over</th>\n",
              "      <th>PctBachDeg25_Over</th>\n",
              "      <th>PctUnemployed16_Over</th>\n",
              "      <th>PctPrivateCoverage</th>\n",
              "      <th>PctEmpPrivCoverage</th>\n",
              "      <th>PctPublicCoverage</th>\n",
              "      <th>PctPublicCoverageAlone</th>\n",
              "      <th>PctWhite</th>\n",
              "      <th>PctBlack</th>\n",
              "      <th>PctAsian</th>\n",
              "      <th>PctOtherRace</th>\n",
              "      <th>PctMarriedHouseholds</th>\n",
              "      <th>BirthRate</th>\n",
              "    </tr>\n",
              "  </thead>\n",
              "  <tbody>\n",
              "    <tr>\n",
              "      <th>0</th>\n",
              "      <td>1397.000</td>\n",
              "      <td>469</td>\n",
              "      <td>164.9</td>\n",
              "      <td>489.8000</td>\n",
              "      <td>61898</td>\n",
              "      <td>260131</td>\n",
              "      <td>11.2</td>\n",
              "      <td>499.74820</td>\n",
              "      <td>39.3</td>\n",
              "      <td>36.9</td>\n",
              "      <td>41.7</td>\n",
              "      <td>2.54</td>\n",
              "      <td>52.5</td>\n",
              "      <td>11.5</td>\n",
              "      <td>39.5</td>\n",
              "      <td>6.9</td>\n",
              "      <td>23.2</td>\n",
              "      <td>19.6</td>\n",
              "      <td>8.0</td>\n",
              "      <td>75.1</td>\n",
              "      <td>41.6</td>\n",
              "      <td>32.9</td>\n",
              "      <td>14.0</td>\n",
              "      <td>81.78053</td>\n",
              "      <td>2.594728</td>\n",
              "      <td>4.821857</td>\n",
              "      <td>1.843479</td>\n",
              "      <td>52.85608</td>\n",
              "      <td>6.118831</td>\n",
              "    </tr>\n",
              "    <tr>\n",
              "      <th>1</th>\n",
              "      <td>173.000</td>\n",
              "      <td>70</td>\n",
              "      <td>161.3</td>\n",
              "      <td>411.6000</td>\n",
              "      <td>48127</td>\n",
              "      <td>43269</td>\n",
              "      <td>18.6</td>\n",
              "      <td>23.11123</td>\n",
              "      <td>33.0</td>\n",
              "      <td>32.2</td>\n",
              "      <td>33.7</td>\n",
              "      <td>2.34</td>\n",
              "      <td>44.5</td>\n",
              "      <td>6.1</td>\n",
              "      <td>22.4</td>\n",
              "      <td>7.5</td>\n",
              "      <td>26.0</td>\n",
              "      <td>22.7</td>\n",
              "      <td>7.8</td>\n",
              "      <td>70.2</td>\n",
              "      <td>43.6</td>\n",
              "      <td>31.1</td>\n",
              "      <td>15.3</td>\n",
              "      <td>89.22851</td>\n",
              "      <td>0.969102</td>\n",
              "      <td>2.246233</td>\n",
              "      <td>3.741352</td>\n",
              "      <td>45.37250</td>\n",
              "      <td>4.333096</td>\n",
              "    </tr>\n",
              "    <tr>\n",
              "      <th>2</th>\n",
              "      <td>102.000</td>\n",
              "      <td>50</td>\n",
              "      <td>174.7</td>\n",
              "      <td>349.7000</td>\n",
              "      <td>49348</td>\n",
              "      <td>21026</td>\n",
              "      <td>14.6</td>\n",
              "      <td>47.56016</td>\n",
              "      <td>45.0</td>\n",
              "      <td>44.0</td>\n",
              "      <td>45.8</td>\n",
              "      <td>2.62</td>\n",
              "      <td>54.2</td>\n",
              "      <td>24.0</td>\n",
              "      <td>36.6</td>\n",
              "      <td>9.5</td>\n",
              "      <td>29.0</td>\n",
              "      <td>16.0</td>\n",
              "      <td>7.0</td>\n",
              "      <td>63.7</td>\n",
              "      <td>34.9</td>\n",
              "      <td>42.1</td>\n",
              "      <td>21.1</td>\n",
              "      <td>90.92219</td>\n",
              "      <td>0.739673</td>\n",
              "      <td>0.465898</td>\n",
              "      <td>2.747358</td>\n",
              "      <td>54.44487</td>\n",
              "      <td>3.729488</td>\n",
              "    </tr>\n",
              "    <tr>\n",
              "      <th>3</th>\n",
              "      <td>427.000</td>\n",
              "      <td>202</td>\n",
              "      <td>194.8</td>\n",
              "      <td>430.4000</td>\n",
              "      <td>44243</td>\n",
              "      <td>75882</td>\n",
              "      <td>17.1</td>\n",
              "      <td>342.63730</td>\n",
              "      <td>42.8</td>\n",
              "      <td>42.2</td>\n",
              "      <td>43.4</td>\n",
              "      <td>2.52</td>\n",
              "      <td>52.7</td>\n",
              "      <td>20.2</td>\n",
              "      <td>41.2</td>\n",
              "      <td>2.5</td>\n",
              "      <td>31.6</td>\n",
              "      <td>9.3</td>\n",
              "      <td>12.1</td>\n",
              "      <td>58.4</td>\n",
              "      <td>35.0</td>\n",
              "      <td>45.3</td>\n",
              "      <td>25.0</td>\n",
              "      <td>91.74469</td>\n",
              "      <td>0.782626</td>\n",
              "      <td>1.161359</td>\n",
              "      <td>1.362643</td>\n",
              "      <td>51.02151</td>\n",
              "      <td>4.603841</td>\n",
              "    </tr>\n",
              "    <tr>\n",
              "      <th>4</th>\n",
              "      <td>57.000</td>\n",
              "      <td>26</td>\n",
              "      <td>144.4</td>\n",
              "      <td>350.1000</td>\n",
              "      <td>49955</td>\n",
              "      <td>10321</td>\n",
              "      <td>12.5</td>\n",
              "      <td>0.00000</td>\n",
              "      <td>48.3</td>\n",
              "      <td>47.8</td>\n",
              "      <td>48.9</td>\n",
              "      <td>2.34</td>\n",
              "      <td>57.8</td>\n",
              "      <td>14.9</td>\n",
              "      <td>43.0</td>\n",
              "      <td>2.0</td>\n",
              "      <td>33.4</td>\n",
              "      <td>15.0</td>\n",
              "      <td>4.8</td>\n",
              "      <td>61.6</td>\n",
              "      <td>35.1</td>\n",
              "      <td>44.0</td>\n",
              "      <td>22.7</td>\n",
              "      <td>94.10402</td>\n",
              "      <td>0.270192</td>\n",
              "      <td>0.665830</td>\n",
              "      <td>0.492135</td>\n",
              "      <td>54.02746</td>\n",
              "      <td>6.796657</td>\n",
              "    </tr>\n",
              "    <tr>\n",
              "      <th>...</th>\n",
              "      <td>...</td>\n",
              "      <td>...</td>\n",
              "      <td>...</td>\n",
              "      <td>...</td>\n",
              "      <td>...</td>\n",
              "      <td>...</td>\n",
              "      <td>...</td>\n",
              "      <td>...</td>\n",
              "      <td>...</td>\n",
              "      <td>...</td>\n",
              "      <td>...</td>\n",
              "      <td>...</td>\n",
              "      <td>...</td>\n",
              "      <td>...</td>\n",
              "      <td>...</td>\n",
              "      <td>...</td>\n",
              "      <td>...</td>\n",
              "      <td>...</td>\n",
              "      <td>...</td>\n",
              "      <td>...</td>\n",
              "      <td>...</td>\n",
              "      <td>...</td>\n",
              "      <td>...</td>\n",
              "      <td>...</td>\n",
              "      <td>...</td>\n",
              "      <td>...</td>\n",
              "      <td>...</td>\n",
              "      <td>...</td>\n",
              "      <td>...</td>\n",
              "    </tr>\n",
              "    <tr>\n",
              "      <th>3042</th>\n",
              "      <td>1962.668</td>\n",
              "      <td>15</td>\n",
              "      <td>149.6</td>\n",
              "      <td>453.5494</td>\n",
              "      <td>46961</td>\n",
              "      <td>6343</td>\n",
              "      <td>12.4</td>\n",
              "      <td>0.00000</td>\n",
              "      <td>44.2</td>\n",
              "      <td>41.1</td>\n",
              "      <td>48.8</td>\n",
              "      <td>2.08</td>\n",
              "      <td>51.0</td>\n",
              "      <td>20.9</td>\n",
              "      <td>27.9</td>\n",
              "      <td>8.4</td>\n",
              "      <td>32.2</td>\n",
              "      <td>15.2</td>\n",
              "      <td>4.3</td>\n",
              "      <td>78.3</td>\n",
              "      <td>44.6</td>\n",
              "      <td>31.7</td>\n",
              "      <td>13.2</td>\n",
              "      <td>90.28081</td>\n",
              "      <td>3.837754</td>\n",
              "      <td>0.327613</td>\n",
              "      <td>1.700468</td>\n",
              "      <td>51.06383</td>\n",
              "      <td>7.773512</td>\n",
              "    </tr>\n",
              "    <tr>\n",
              "      <th>3043</th>\n",
              "      <td>1962.668</td>\n",
              "      <td>43</td>\n",
              "      <td>150.1</td>\n",
              "      <td>453.5494</td>\n",
              "      <td>48609</td>\n",
              "      <td>37118</td>\n",
              "      <td>18.8</td>\n",
              "      <td>377.17550</td>\n",
              "      <td>30.4</td>\n",
              "      <td>29.3</td>\n",
              "      <td>31.4</td>\n",
              "      <td>2.90</td>\n",
              "      <td>52.6</td>\n",
              "      <td>26.7</td>\n",
              "      <td>33.9</td>\n",
              "      <td>3.8</td>\n",
              "      <td>23.1</td>\n",
              "      <td>12.4</td>\n",
              "      <td>4.6</td>\n",
              "      <td>64.5</td>\n",
              "      <td>48.6</td>\n",
              "      <td>28.8</td>\n",
              "      <td>17.7</td>\n",
              "      <td>75.70625</td>\n",
              "      <td>2.326771</td>\n",
              "      <td>4.044920</td>\n",
              "      <td>14.130290</td>\n",
              "      <td>52.00794</td>\n",
              "      <td>8.186470</td>\n",
              "    </tr>\n",
              "    <tr>\n",
              "      <th>3044</th>\n",
              "      <td>1962.668</td>\n",
              "      <td>46</td>\n",
              "      <td>153.9</td>\n",
              "      <td>453.5494</td>\n",
              "      <td>51144</td>\n",
              "      <td>34536</td>\n",
              "      <td>15.0</td>\n",
              "      <td>1968.96000</td>\n",
              "      <td>30.9</td>\n",
              "      <td>30.5</td>\n",
              "      <td>31.2</td>\n",
              "      <td>3.04</td>\n",
              "      <td>54.8</td>\n",
              "      <td>19.7</td>\n",
              "      <td>44.5</td>\n",
              "      <td>2.5</td>\n",
              "      <td>23.0</td>\n",
              "      <td>12.8</td>\n",
              "      <td>6.4</td>\n",
              "      <td>62.0</td>\n",
              "      <td>47.8</td>\n",
              "      <td>26.6</td>\n",
              "      <td>16.8</td>\n",
              "      <td>87.96163</td>\n",
              "      <td>2.313188</td>\n",
              "      <td>1.316472</td>\n",
              "      <td>5.680705</td>\n",
              "      <td>55.15395</td>\n",
              "      <td>7.809192</td>\n",
              "    </tr>\n",
              "    <tr>\n",
              "      <th>3045</th>\n",
              "      <td>1962.668</td>\n",
              "      <td>52</td>\n",
              "      <td>175.0</td>\n",
              "      <td>453.5494</td>\n",
              "      <td>50745</td>\n",
              "      <td>25609</td>\n",
              "      <td>13.3</td>\n",
              "      <td>0.00000</td>\n",
              "      <td>39.0</td>\n",
              "      <td>36.9</td>\n",
              "      <td>40.5</td>\n",
              "      <td>2.56</td>\n",
              "      <td>58.8</td>\n",
              "      <td>10.9</td>\n",
              "      <td>37.2</td>\n",
              "      <td>4.1</td>\n",
              "      <td>36.1</td>\n",
              "      <td>14.4</td>\n",
              "      <td>6.9</td>\n",
              "      <td>75.9</td>\n",
              "      <td>49.6</td>\n",
              "      <td>29.5</td>\n",
              "      <td>14.0</td>\n",
              "      <td>92.90568</td>\n",
              "      <td>1.176562</td>\n",
              "      <td>0.244632</td>\n",
              "      <td>2.131790</td>\n",
              "      <td>58.48423</td>\n",
              "      <td>7.582938</td>\n",
              "    </tr>\n",
              "    <tr>\n",
              "      <th>3046</th>\n",
              "      <td>1962.668</td>\n",
              "      <td>48</td>\n",
              "      <td>213.6</td>\n",
              "      <td>453.5494</td>\n",
              "      <td>41193</td>\n",
              "      <td>37030</td>\n",
              "      <td>13.9</td>\n",
              "      <td>0.00000</td>\n",
              "      <td>26.2</td>\n",
              "      <td>25.5</td>\n",
              "      <td>27.0</td>\n",
              "      <td>2.83</td>\n",
              "      <td>59.5</td>\n",
              "      <td>8.0</td>\n",
              "      <td>43.3</td>\n",
              "      <td>4.8</td>\n",
              "      <td>29.8</td>\n",
              "      <td>13.7</td>\n",
              "      <td>9.2</td>\n",
              "      <td>76.1</td>\n",
              "      <td>22.9</td>\n",
              "      <td>25.1</td>\n",
              "      <td>12.6</td>\n",
              "      <td>70.09813</td>\n",
              "      <td>16.590100</td>\n",
              "      <td>3.177753</td>\n",
              "      <td>1.356457</td>\n",
              "      <td>56.04024</td>\n",
              "      <td>8.981723</td>\n",
              "    </tr>\n",
              "  </tbody>\n",
              "</table>\n",
              "<p>3047 rows × 29 columns</p>\n",
              "</div>"
            ],
            "text/plain": [
              "      avgAnnCount  avgDeathsPerYear  ...  PctMarriedHouseholds  BirthRate\n",
              "0        1397.000               469  ...              52.85608   6.118831\n",
              "1         173.000                70  ...              45.37250   4.333096\n",
              "2         102.000                50  ...              54.44487   3.729488\n",
              "3         427.000               202  ...              51.02151   4.603841\n",
              "4          57.000                26  ...              54.02746   6.796657\n",
              "...           ...               ...  ...                   ...        ...\n",
              "3042     1962.668                15  ...              51.06383   7.773512\n",
              "3043     1962.668                43  ...              52.00794   8.186470\n",
              "3044     1962.668                46  ...              55.15395   7.809192\n",
              "3045     1962.668                52  ...              58.48423   7.582938\n",
              "3046     1962.668                48  ...              56.04024   8.981723\n",
              "\n",
              "[3047 rows x 29 columns]"
            ]
          },
          "metadata": {
            "tags": []
          },
          "execution_count": 17
        }
      ]
    },
    {
      "cell_type": "code",
      "metadata": {
        "id": "LBNJN9UShcoD",
        "colab": {
          "base_uri": "https://localhost:8080/",
          "height": 504
        },
        "outputId": "1691ecba-38fe-4680-f3ce-4e617e6f30c5"
      },
      "source": [
        "#checking the columns with numerical values\n",
        "\n",
        "numerical_feature_columns= list(cancer._get_numeric_data().columns)\n",
        "numerical_feature_columns"
      ],
      "execution_count": null,
      "outputs": [
        {
          "output_type": "execute_result",
          "data": {
            "text/plain": [
              "['avgAnnCount',\n",
              " 'avgDeathsPerYear',\n",
              " 'TARGET_deathRate',\n",
              " 'incidenceRate',\n",
              " 'medIncome',\n",
              " 'popEst2015',\n",
              " 'povertyPercent',\n",
              " 'studyPerCap',\n",
              " 'MedianAge',\n",
              " 'MedianAgeMale',\n",
              " 'MedianAgeFemale',\n",
              " 'AvgHouseholdSize',\n",
              " 'PercentMarried',\n",
              " 'PctNoHS18_24',\n",
              " 'PctHS18_24',\n",
              " 'PctBachDeg18_24',\n",
              " 'PctHS25_Over',\n",
              " 'PctBachDeg25_Over',\n",
              " 'PctUnemployed16_Over',\n",
              " 'PctPrivateCoverage',\n",
              " 'PctEmpPrivCoverage',\n",
              " 'PctPublicCoverage',\n",
              " 'PctPublicCoverageAlone',\n",
              " 'PctWhite',\n",
              " 'PctBlack',\n",
              " 'PctAsian',\n",
              " 'PctOtherRace',\n",
              " 'PctMarriedHouseholds',\n",
              " 'BirthRate']"
            ]
          },
          "metadata": {
            "tags": []
          },
          "execution_count": 18
        }
      ]
    },
    {
      "cell_type": "code",
      "metadata": {
        "id": "c_YF-1l4itnW"
      },
      "source": [
        "#initializing the target variable as 'target'\n",
        "target = 'TARGET_deathRate'"
      ],
      "execution_count": null,
      "outputs": []
    },
    {
      "cell_type": "code",
      "metadata": {
        "id": "bhEguufYi3kc",
        "colab": {
          "base_uri": "https://localhost:8080/",
          "height": 506
        },
        "outputId": "65de71bf-eeb7-45bb-b6d4-2fee253d86d2"
      },
      "source": [
        "#corelation with respect to different variables and taget variable\n",
        "#which is 'TARGET_deathRate'\n",
        "k=15\n",
        "cols=cancer[numerical_feature_columns].corr().nlargest(k,target)[target].index\n",
        "cm=cancer[cols].corr()\n",
        "plt.figure(figsize=(10,6))\n",
        "sns.heatmap(cm, annot=True, cmap = 'viridis')"
      ],
      "execution_count": null,
      "outputs": [
        {
          "output_type": "execute_result",
          "data": {
            "text/plain": [
              "<matplotlib.axes._subplots.AxesSubplot at 0x7f3161b00da0>"
            ]
          },
          "metadata": {
            "tags": []
          },
          "execution_count": 20
        },
        {
          "output_type": "display_data",
          "data": {
            "image/png": "[encoded data removed]",
            "text/plain": [
              "<Figure size 720x432 with 2 Axes>"
            ]
          },
          "metadata": {
            "tags": [],
            "needs_background": "light"
          }
        }
      ]
    },
    {
      "cell_type": "code",
      "metadata": {
        "id": "nB5Jzyfp4yT-"
      },
      "source": [
        "#function that accepts the model and gives accuracy\n",
        "# and f1_score and confusion matrix \n",
        "\n",
        "def generate_accuracy_and_heatmap(model,x,y):\n",
        "  ac=accuracy_score(y,model.predict(x))\n",
        "  f_score=f1_score(y,model.predict(x))\n",
        "  print('Accuracy is: ',ac)\n",
        "  print('F1 score is: ',f_score)\n",
        "  print(\"\\n\")\n",
        "  print(pd.crosstab(pd.Series(model.predict(x), name='Predicted'),\n",
        "                    pd.Series(y['TARGET_deathRate'],name='Actual')))\n",
        "  return 1"
      ],
      "execution_count": null,
      "outputs": []
    },
    {
      "cell_type": "code",
      "metadata": {
        "id": "T7ByqzJVjbkJ"
      },
      "source": [
        "#seperate x and y columns\n",
        "X = cancer.loc[:, cancer.columns != target]\n",
        "Y = cancer.loc[:, cancer.columns == target]"
      ],
      "execution_count": null,
      "outputs": []
    },
    {
      "cell_type": "code",
      "metadata": {
        "id": "s2H3K4wjj9da",
        "colab": {
          "base_uri": "https://localhost:8080/",
          "height": 34
        },
        "outputId": "1cc295e9-bb53-4296-9124-87e2d01ac04c"
      },
      "source": [
        "#to know shape of X\n",
        "\n",
        "X.shape"
      ],
      "execution_count": null,
      "outputs": [
        {
          "output_type": "execute_result",
          "data": {
            "text/plain": [
              "(3047, 28)"
            ]
          },
          "metadata": {
            "tags": []
          },
          "execution_count": 23
        }
      ]
    },
    {
      "cell_type": "code",
      "metadata": {
        "id": "2nWttlJNkEda",
        "colab": {
          "base_uri": "https://localhost:8080/",
          "height": 34
        },
        "outputId": "713c7898-6e88-4010-c1b7-3eb2128d1071"
      },
      "source": [
        "#to know shape of Y\n",
        "\n",
        "Y.shape"
      ],
      "execution_count": null,
      "outputs": [
        {
          "output_type": "execute_result",
          "data": {
            "text/plain": [
              "(3047, 1)"
            ]
          },
          "metadata": {
            "tags": []
          },
          "execution_count": 24
        }
      ]
    },
    {
      "cell_type": "code",
      "metadata": {
        "id": "YJ-0qPEDydPI"
      },
      "source": [
        "#splitting the data into train and test\n",
        "\n",
        "x_train, x_test,y_train, y_test= train_test_split(X,Y, \n",
        "                                                  test_size=0.33,\n",
        "                                                  random_state=10)"
      ],
      "execution_count": null,
      "outputs": []
    },
    {
      "cell_type": "code",
      "metadata": {
        "id": "bpKhU4wd4B63",
        "colab": {
          "base_uri": "https://localhost:8080/",
          "height": 215
        },
        "outputId": "46f01ed7-abe5-4588-be74-a5d40fd8cac7"
      },
      "source": [
        "x_train.head()"
      ],
      "execution_count": null,
      "outputs": [
        {
          "output_type": "execute_result",
          "data": {
            "text/html": [
              "<div>\n",
              "<style scoped>\n",
              "    .dataframe tbody tr th:only-of-type {\n",
              "        vertical-align: middle;\n",
              "    }\n",
              "\n",
              "    .dataframe tbody tr th {\n",
              "        vertical-align: top;\n",
              "    }\n",
              "\n",
              "    .dataframe thead th {\n",
              "        text-align: right;\n",
              "    }\n",
              "</style>\n",
              "<table border=\"1\" class=\"dataframe\">\n",
              "  <thead>\n",
              "    <tr style=\"text-align: right;\">\n",
              "      <th></th>\n",
              "      <th>avgAnnCount</th>\n",
              "      <th>avgDeathsPerYear</th>\n",
              "      <th>incidenceRate</th>\n",
              "      <th>medIncome</th>\n",
              "      <th>popEst2015</th>\n",
              "      <th>povertyPercent</th>\n",
              "      <th>studyPerCap</th>\n",
              "      <th>MedianAge</th>\n",
              "      <th>MedianAgeMale</th>\n",
              "      <th>MedianAgeFemale</th>\n",
              "      <th>AvgHouseholdSize</th>\n",
              "      <th>PercentMarried</th>\n",
              "      <th>PctNoHS18_24</th>\n",
              "      <th>PctHS18_24</th>\n",
              "      <th>PctBachDeg18_24</th>\n",
              "      <th>PctHS25_Over</th>\n",
              "      <th>PctBachDeg25_Over</th>\n",
              "      <th>PctUnemployed16_Over</th>\n",
              "      <th>PctPrivateCoverage</th>\n",
              "      <th>PctEmpPrivCoverage</th>\n",
              "      <th>PctPublicCoverage</th>\n",
              "      <th>PctPublicCoverageAlone</th>\n",
              "      <th>PctWhite</th>\n",
              "      <th>PctBlack</th>\n",
              "      <th>PctAsian</th>\n",
              "      <th>PctOtherRace</th>\n",
              "      <th>PctMarriedHouseholds</th>\n",
              "      <th>BirthRate</th>\n",
              "    </tr>\n",
              "  </thead>\n",
              "  <tbody>\n",
              "    <tr>\n",
              "      <th>270</th>\n",
              "      <td>249.0</td>\n",
              "      <td>88</td>\n",
              "      <td>651.3</td>\n",
              "      <td>32749</td>\n",
              "      <td>32477</td>\n",
              "      <td>25.8</td>\n",
              "      <td>0.000000</td>\n",
              "      <td>39.5</td>\n",
              "      <td>37.3</td>\n",
              "      <td>41.1</td>\n",
              "      <td>2.44</td>\n",
              "      <td>29.5</td>\n",
              "      <td>14.3</td>\n",
              "      <td>43.7</td>\n",
              "      <td>12.0</td>\n",
              "      <td>34.0</td>\n",
              "      <td>9.2</td>\n",
              "      <td>13.0</td>\n",
              "      <td>53.1</td>\n",
              "      <td>32.3</td>\n",
              "      <td>43.3</td>\n",
              "      <td>26.3</td>\n",
              "      <td>18.14899</td>\n",
              "      <td>77.072500</td>\n",
              "      <td>1.319927</td>\n",
              "      <td>1.273231</td>\n",
              "      <td>27.00929</td>\n",
              "      <td>4.372409</td>\n",
              "    </tr>\n",
              "    <tr>\n",
              "      <th>2024</th>\n",
              "      <td>71.0</td>\n",
              "      <td>27</td>\n",
              "      <td>433.1</td>\n",
              "      <td>51958</td>\n",
              "      <td>13628</td>\n",
              "      <td>10.2</td>\n",
              "      <td>0.000000</td>\n",
              "      <td>39.8</td>\n",
              "      <td>38.7</td>\n",
              "      <td>40.8</td>\n",
              "      <td>2.62</td>\n",
              "      <td>58.1</td>\n",
              "      <td>11.2</td>\n",
              "      <td>29.6</td>\n",
              "      <td>4.8</td>\n",
              "      <td>46.6</td>\n",
              "      <td>12.6</td>\n",
              "      <td>2.9</td>\n",
              "      <td>78.6</td>\n",
              "      <td>57.2</td>\n",
              "      <td>27.4</td>\n",
              "      <td>12.2</td>\n",
              "      <td>98.34278</td>\n",
              "      <td>0.828609</td>\n",
              "      <td>0.058148</td>\n",
              "      <td>0.341619</td>\n",
              "      <td>60.89831</td>\n",
              "      <td>3.887916</td>\n",
              "    </tr>\n",
              "    <tr>\n",
              "      <th>146</th>\n",
              "      <td>2353.0</td>\n",
              "      <td>876</td>\n",
              "      <td>399.5</td>\n",
              "      <td>57720</td>\n",
              "      <td>674836</td>\n",
              "      <td>17.7</td>\n",
              "      <td>1.481842</td>\n",
              "      <td>34.7</td>\n",
              "      <td>33.8</td>\n",
              "      <td>35.6</td>\n",
              "      <td>2.63</td>\n",
              "      <td>41.5</td>\n",
              "      <td>12.8</td>\n",
              "      <td>25.0</td>\n",
              "      <td>19.1</td>\n",
              "      <td>26.1</td>\n",
              "      <td>23.8</td>\n",
              "      <td>9.3</td>\n",
              "      <td>56.5</td>\n",
              "      <td>44.6</td>\n",
              "      <td>29.6</td>\n",
              "      <td>21.3</td>\n",
              "      <td>55.62639</td>\n",
              "      <td>12.748050</td>\n",
              "      <td>14.629980</td>\n",
              "      <td>13.560280</td>\n",
              "      <td>38.47522</td>\n",
              "      <td>5.344239</td>\n",
              "    </tr>\n",
              "    <tr>\n",
              "      <th>1911</th>\n",
              "      <td>71.0</td>\n",
              "      <td>35</td>\n",
              "      <td>423.4</td>\n",
              "      <td>34452</td>\n",
              "      <td>10160</td>\n",
              "      <td>23.1</td>\n",
              "      <td>0.000000</td>\n",
              "      <td>49.1</td>\n",
              "      <td>49.4</td>\n",
              "      <td>48.5</td>\n",
              "      <td>2.26</td>\n",
              "      <td>55.1</td>\n",
              "      <td>19.8</td>\n",
              "      <td>37.5</td>\n",
              "      <td>5.9</td>\n",
              "      <td>37.6</td>\n",
              "      <td>8.7</td>\n",
              "      <td>8.0</td>\n",
              "      <td>50.0</td>\n",
              "      <td>29.9</td>\n",
              "      <td>42.9</td>\n",
              "      <td>22.1</td>\n",
              "      <td>74.74629</td>\n",
              "      <td>22.921550</td>\n",
              "      <td>1.619828</td>\n",
              "      <td>0.087822</td>\n",
              "      <td>51.31078</td>\n",
              "      <td>1.660795</td>\n",
              "    </tr>\n",
              "    <tr>\n",
              "      <th>980</th>\n",
              "      <td>66.0</td>\n",
              "      <td>29</td>\n",
              "      <td>433.5</td>\n",
              "      <td>48277</td>\n",
              "      <td>11130</td>\n",
              "      <td>14.5</td>\n",
              "      <td>0.000000</td>\n",
              "      <td>44.8</td>\n",
              "      <td>45.0</td>\n",
              "      <td>44.5</td>\n",
              "      <td>2.53</td>\n",
              "      <td>45.4</td>\n",
              "      <td>16.8</td>\n",
              "      <td>40.5</td>\n",
              "      <td>13.0</td>\n",
              "      <td>38.5</td>\n",
              "      <td>9.0</td>\n",
              "      <td>8.5</td>\n",
              "      <td>67.2</td>\n",
              "      <td>45.3</td>\n",
              "      <td>35.3</td>\n",
              "      <td>17.2</td>\n",
              "      <td>55.74388</td>\n",
              "      <td>41.036680</td>\n",
              "      <td>0.000000</td>\n",
              "      <td>0.197292</td>\n",
              "      <td>46.16805</td>\n",
              "      <td>1.972921</td>\n",
              "    </tr>\n",
              "  </tbody>\n",
              "</table>\n",
              "</div>"
            ],
            "text/plain": [
              "      avgAnnCount  avgDeathsPerYear  ...  PctMarriedHouseholds  BirthRate\n",
              "270         249.0                88  ...              27.00929   4.372409\n",
              "2024         71.0                27  ...              60.89831   3.887916\n",
              "146        2353.0               876  ...              38.47522   5.344239\n",
              "1911         71.0                35  ...              51.31078   1.660795\n",
              "980          66.0                29  ...              46.16805   1.972921\n",
              "\n",
              "[5 rows x 28 columns]"
            ]
          },
          "metadata": {
            "tags": []
          },
          "execution_count": 26
        }
      ]
    },
    {
      "cell_type": "code",
      "metadata": {
        "id": "fpBwgNAL5ByF",
        "colab": {
          "base_uri": "https://localhost:8080/",
          "height": 195
        },
        "outputId": "698f77be-f09e-4326-d5c9-e13ea079d6ab"
      },
      "source": [
        "y_train.head()"
      ],
      "execution_count": null,
      "outputs": [
        {
          "output_type": "execute_result",
          "data": {
            "text/html": [
              "<div>\n",
              "<style scoped>\n",
              "    .dataframe tbody tr th:only-of-type {\n",
              "        vertical-align: middle;\n",
              "    }\n",
              "\n",
              "    .dataframe tbody tr th {\n",
              "        vertical-align: top;\n",
              "    }\n",
              "\n",
              "    .dataframe thead th {\n",
              "        text-align: right;\n",
              "    }\n",
              "</style>\n",
              "<table border=\"1\" class=\"dataframe\">\n",
              "  <thead>\n",
              "    <tr style=\"text-align: right;\">\n",
              "      <th></th>\n",
              "      <th>TARGET_deathRate</th>\n",
              "    </tr>\n",
              "  </thead>\n",
              "  <tbody>\n",
              "    <tr>\n",
              "      <th>270</th>\n",
              "      <td>224.4</td>\n",
              "    </tr>\n",
              "    <tr>\n",
              "      <th>2024</th>\n",
              "      <td>161.3</td>\n",
              "    </tr>\n",
              "    <tr>\n",
              "      <th>146</th>\n",
              "      <td>152.6</td>\n",
              "    </tr>\n",
              "    <tr>\n",
              "      <th>1911</th>\n",
              "      <td>205.0</td>\n",
              "    </tr>\n",
              "    <tr>\n",
              "      <th>980</th>\n",
              "      <td>183.4</td>\n",
              "    </tr>\n",
              "  </tbody>\n",
              "</table>\n",
              "</div>"
            ],
            "text/plain": [
              "      TARGET_deathRate\n",
              "270              224.4\n",
              "2024             161.3\n",
              "146              152.6\n",
              "1911             205.0\n",
              "980              183.4"
            ]
          },
          "metadata": {
            "tags": []
          },
          "execution_count": 27
        }
      ]
    },
    {
      "cell_type": "code",
      "metadata": {
        "id": "zOnK9HZB51eK"
      },
      "source": [
        "import statsmodels.api as sm"
      ],
      "execution_count": null,
      "outputs": []
    },
    {
      "cell_type": "code",
      "metadata": {
        "id": "G2uebaOO55oO"
      },
      "source": [
        "# Add a constant to get an intercept\n",
        "x_train_sm = sm.add_constant(x_train)\n",
        "\n",
        "# Fit the resgression line using 'OLS'\n",
        "lr = sm.OLS(y_train, x_train_sm).fit()"
      ],
      "execution_count": null,
      "outputs": []
    },
    {
      "cell_type": "code",
      "metadata": {
        "id": "SVMOTq5B58GJ",
        "colab": {
          "base_uri": "https://localhost:8080/",
          "height": 924
        },
        "outputId": "01c091c7-0308-4cd1-ebb4-d503d51b0203"
      },
      "source": [
        "print(lr.summary())"
      ],
      "execution_count": null,
      "outputs": [
        {
          "output_type": "stream",
          "text": [
            "                            OLS Regression Results                            \n",
            "==============================================================================\n",
            "Dep. Variable:       TARGET_deathRate   R-squared:                       0.521\n",
            "Model:                            OLS   Adj. R-squared:                  0.514\n",
            "Method:                 Least Squares   F-statistic:                     78.09\n",
            "Date:                Tue, 18 Aug 2020   Prob (F-statistic):          1.68e-296\n",
            "Time:                        15:16:57   Log-Likelihood:                -8933.9\n",
            "No. Observations:                2041   AIC:                         1.793e+04\n",
            "Df Residuals:                    2012   BIC:                         1.809e+04\n",
            "Df Model:                          28                                         \n",
            "Covariance Type:            nonrobust                                         \n",
            "==========================================================================================\n",
            "                             coef    std err          t      P>|t|      [0.025      0.975]\n",
            "------------------------------------------------------------------------------------------\n",
            "const                    127.3326     16.125      7.897      0.000      95.710     158.955\n",
            "avgAnnCount               -0.0043      0.001     -4.589      0.000      -0.006      -0.002\n",
            "avgDeathsPerYear           0.0186      0.005      3.963      0.000       0.009       0.028\n",
            "incidenceRate              0.1885      0.009     22.058      0.000       0.172       0.205\n",
            "medIncome                  0.0002   9.96e-05      2.065      0.039    1.04e-05       0.000\n",
            "popEst2015             -1.307e-05   6.42e-06     -2.036      0.042   -2.57e-05    -4.8e-07\n",
            "povertyPercent             0.7864      0.189      4.158      0.000       0.416       1.157\n",
            "studyPerCap               -0.0001      0.001     -0.179      0.858      -0.002       0.001\n",
            "MedianAge                 -0.0025      0.009     -0.280      0.780      -0.020       0.015\n",
            "MedianAgeMale             -0.3666      0.265     -1.385      0.166      -0.886       0.153\n",
            "MedianAgeFemale           -0.0151      0.269     -0.056      0.955      -0.542       0.512\n",
            "AvgHouseholdSize          -0.1455      1.098     -0.133      0.895      -2.299       2.008\n",
            "PercentMarried             0.8644      0.182      4.751      0.000       0.508       1.221\n",
            "PctNoHS18_24              -0.1683      0.069     -2.439      0.015      -0.304      -0.033\n",
            "PctHS18_24                 0.2221      0.061      3.637      0.000       0.102       0.342\n",
            "PctBachDeg18_24           -0.1004      0.130     -0.769      0.442      -0.356       0.156\n",
            "PctHS25_Over               0.4263      0.117      3.638      0.000       0.196       0.656\n",
            "PctBachDeg25_Over         -1.2845      0.186     -6.904      0.000      -1.649      -0.920\n",
            "PctUnemployed16_Over       0.2308      0.197      1.170      0.242      -0.156       0.618\n",
            "PctPrivateCoverage        -0.4721      0.164     -2.875      0.004      -0.794      -0.150\n",
            "PctEmpPrivCoverage         0.2321      0.129      1.798      0.072      -0.021       0.485\n",
            "PctPublicCoverage         -0.0519      0.271     -0.191      0.848      -0.584       0.480\n",
            "PctPublicCoverageAlone     0.1271      0.345      0.368      0.713      -0.550       0.804\n",
            "PctWhite                  -0.1574      0.069     -2.274      0.023      -0.293      -0.022\n",
            "PctBlack                  -0.0972      0.067     -1.454      0.146      -0.228       0.034\n",
            "PctAsian                   0.0992      0.224      0.442      0.658      -0.341       0.539\n",
            "PctOtherRace              -1.0065      0.152     -6.639      0.000      -1.304      -0.709\n",
            "PctMarriedHouseholds      -0.9374      0.171     -5.470      0.000      -1.273      -0.601\n",
            "BirthRate                 -0.7019      0.235     -2.983      0.003      -1.163      -0.240\n",
            "==============================================================================\n",
            "Omnibus:                      129.684   Durbin-Watson:                   1.933\n",
            "Prob(Omnibus):                  0.000   Jarque-Bera (JB):              530.830\n",
            "Skew:                           0.136   Prob(JB):                    5.39e-116\n",
            "Kurtosis:                       5.484   Cond. No.                     1.33e+07\n",
            "==============================================================================\n",
            "\n",
            "Warnings:\n",
            "[1] Standard Errors assume that the covariance matrix of the errors is correctly specified.\n",
            "[2] The condition number is large, 1.33e+07. This might indicate that there are\n",
            "strong multicollinearity or other numerical problems.\n"
          ],
          "name": "stdout"
        }
      ]
    },
    {
      "cell_type": "code",
      "metadata": {
        "id": "1fjyshnD6Cc-"
      },
      "source": [
        ""
      ],
      "execution_count": null,
      "outputs": []
    }
  ]
}